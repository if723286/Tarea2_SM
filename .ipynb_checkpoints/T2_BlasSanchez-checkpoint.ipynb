{
 "cells": [
  {
   "cell_type": "markdown",
   "metadata": {},
   "source": [
    "# <font color= #8A0829> Simulacion Matematica.</font>\n",
    "#### <font color= #2E9AFE> `Blas César Sánchez Barba`</font>\n",
    "- <Strong> Carrera: </Strong> Ingeniería financiera\n",
    "- <Strong> Email: </Strong>  <font color=\"blue\"> `if723286@iteso.mx` </font>\n",
    "- <Strong> Profesor </Strong>: Cristian Camilo Zapata Zuluaga\n",
    "- <Strong>  Curso </Strong>: Otoño 2020\n",
    "___\n",
    "\n",
    "<i>  01/09/2020  </i>"
   ]
  },
  {
   "cell_type": "markdown",
   "metadata": {},
   "source": [
    "## Primer resumen:  <font color= #6A43B6> Por que entrenarse en Python vale la pena..</font>"
   ]
  },
  {
   "cell_type": "markdown",
   "metadata": {},
   "source": [
    "debido a que el mundo sigue avanzando en muchos sentidos y en uno de ellos es la tecnologia, las personas tambien tienen que ir avanzando y aprendiendo nuevas formas de trabajar, estudiar, crecer y superarse. Una area en la que tendriamos que darle un ojo y hacer el intento de aprender son los lenguages de programacion, y es que hoy en dia el lenguage de programacion los tenemos en todos los lugares que nos podamos imaginar, desde celulares, computadoras o incluso electrodomesticos\n",
    "\n",
    "Python es un lenguage el cual no cuesta mucho ttrabajo entender, de hecho ya algunas computadoras tienen Python preinstalado y listo para usarse y de hecho inicia a utilixar Python podria ser mas facil de lo que parece hasta llegar a el punto en el que una persona que tenia 0 conocimientos en programacion se vuelva experta y pueda darle los usos que quiera a este lenguage.\n",
    "\n",
    "Para los negocios que buscan mejorar su tecnologia y buscar nuevas herramientas Python es la respuesta a ello. Una vez que se invierte el tiempo suficiente enentrenamiento, se vulve muy facil aplicar python a los diferentes proyectos de una empresa\n",
    "\n",
    "\n"
   ]
  },
  {
   "cell_type": "code",
   "execution_count": null,
   "metadata": {},
   "outputs": [],
   "source": []
  }
 ],
 "metadata": {
  "kernelspec": {
   "display_name": "Python 3",
   "language": "python",
   "name": "python3"
  },
  "language_info": {
   "codemirror_mode": {
    "name": "ipython",
    "version": 3
   },
   "file_extension": ".py",
   "mimetype": "text/x-python",
   "name": "python",
   "nbconvert_exporter": "python",
   "pygments_lexer": "ipython3",
   "version": "3.7.6"
  }
 },
 "nbformat": 4,
 "nbformat_minor": 4
}
